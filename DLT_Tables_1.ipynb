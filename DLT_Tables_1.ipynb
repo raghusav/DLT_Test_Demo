{
 "cells": [
  {
   "cell_type": "code",
   "execution_count": 0,
   "metadata": {
    "application/vnd.databricks.v1+cell": {
     "cellMetadata": {},
     "inputWidgets": {},
     "nuid": "50751239-aa8b-48b8-bb3f-60b32e49e0bc",
     "showTitle": false,
     "tableResultSettingsMap": {},
     "title": ""
    }
   },
   "outputs": [],
   "source": [
    "import dlt\n",
    "from pyspark.sql.functions import col, current_date\n",
    "from pyspark.sql.functions import input_file_name, current_date\n",
    "from pyspark.sql.types import StructType, StructField, StringType, DoubleType\n",
    "\n",
    "# Define the schema for incoming streaming data\n",
    "json_schema = StructType([\n",
    "    StructField(\"address\", StringType(), True),\n",
    "    StructField(\"certified\", StringType(), True),\n",
    "    StructField(\"city\", StringType(), True),\n",
    "    StructField(\"country\", StringType(), True),\n",
    "    StructField(\"dealer_notes\", StringType(), True),\n",
    "    StructField(\"drive\", StringType(), True),\n",
    "    StructField(\"email\", StringType(), True),\n",
    "    StructField(\"engine\", StringType(), True),\n",
    "    StructField(\"exterior_color\", StringType(), True),\n",
    "    StructField(\"heading\", StringType(), True),\n",
    "    StructField(\"interior_color\", StringType(), True),\n",
    "    StructField(\"lat\", DoubleType(), True),  \n",
    "    StructField(\"lon\", DoubleType(), True),\n",
    "    StructField(\"mileage\", StringType(), True),\n",
    "    StructField(\"name\", StringType(), True),\n",
    "    StructField(\"optional_features\", StringType(), True),\n",
    "    StructField(\"packages\", StringType(), True),\n",
    "    StructField(\"phone\", StringType(), True),\n",
    "    StructField(\"postal_code\", StringType(), True),\n",
    "    StructField(\"price\", StringType(), True),\n",
    "    StructField(\"standard_features\", StringType(), True),\n",
    "    StructField(\"state_province\", StringType(), True),\n",
    "    StructField(\"stock_number\", StringType(), True),\n",
    "    StructField(\"stock_type\", StringType(), True),\n",
    "    StructField(\"transmission\", StringType(), True),\n",
    "    StructField(\"url\", StringType(), True),\n",
    "    StructField(\"vin\", StringType(), True)\n",
    "])\n",
    "\n",
    "# Define the Delta Live Table\n",
    "@dlt.table(\n",
    "    name=\"dev_team_offshore.bronze.bronze_table\",\n",
    "    comment=\"Bronze Table for Streaming Data\",\n",
    "    partition_cols=[\"load_date\"]\n",
    ")\n",
    "def bronze_table():\n",
    "    return (\n",
    "        spark.readStream\n",
    "        .schema(json_schema)\n",
    "        .json(\"/FileStore/tables/streaming/*\", multiLine=True)\n",
    "        .withColumn(\"File_name\", col(\"_metadata.file_path\"))   # Add File Name\n",
    "        .withColumn(\"load_date\", current_date().cast(\"string\"))  # Add Load Date\n",
    "    )\n"
   ]
  },
  {
   "cell_type": "code",
   "execution_count": 0,
   "metadata": {
    "application/vnd.databricks.v1+cell": {
     "cellMetadata": {},
     "inputWidgets": {},
     "nuid": "fb3e2ad8-ff01-45aa-a32e-65a969e37ded",
     "showTitle": false,
     "tableResultSettingsMap": {},
     "title": ""
    }
   },
   "outputs": [],
   "source": [
    "@dlt.table(\n",
    "    name=\"dev_team_offshore.silver.silver_table\",  #  Explicit schema reference\n",
    "    comment=\"Silver Table for Cleaned Streaming Data\",\n",
    "    table_properties={\"quality\": \"silver\"},\n",
    "    partition_cols=[\"load_date\"]\n",
    ")\n",
    "def silver_table():\n",
    "    return (\n",
    "        dlt.read_stream(\"dev_team_offshore.bronze.bronze_table\")  # Read from Bronze Layer\n",
    "        #.dropDuplicates([\"vin\"])  # Remove duplicates based on VIN\n",
    "        #.filter(col(\"price\").isNotNull())  # Remove records with null price\n",
    "        #.filter(col(\"mileage\").isNotNull())  # Remove records with null mileage\n",
    "        .withColumn(\"processed_date\", current_date().cast(\"string\"))  # Add Processed Date\n",
    "    )"
   ]
  }
 ],
 "metadata": {
  "application/vnd.databricks.v1+notebook": {
   "computePreferences": null,
   "dashboards": [],
   "environmentMetadata": {
    "base_environment": "",
    "environment_version": "2"
   },
   "language": "python",
   "notebookMetadata": {
    "pythonIndentUnit": 4
   },
   "notebookName": "DLT_Tables_1",
   "widgets": {}
  },
  "language_info": {
   "name": "python"
  }
 },
 "nbformat": 4,
 "nbformat_minor": 0
}
